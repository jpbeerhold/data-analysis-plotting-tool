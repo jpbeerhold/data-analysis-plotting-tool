{
 "cells": [
  {
   "cell_type": "markdown",
   "metadata": {
    "tags": []
   },
   "source": [
    "# Data-Analysis-Plotting-Tool"
   ]
  },
  {
   "cell_type": "code",
   "execution_count": null,
   "metadata": {},
   "outputs": [],
   "source": [
    "from data_analysis_plotting_tool.main import DataAnalysisPlottingTool"
   ]
  },
  {
   "cell_type": "markdown",
   "metadata": {},
   "source": [
    "## Add data sets"
   ]
  },
  {
   "cell_type": "code",
   "execution_count": null,
   "metadata": {},
   "outputs": [],
   "source": [
    "from os.path import dirname\n",
    "\n",
    "ept = DataAnalysisPlottingTool()\n",
    "\n",
    "ds1 = dirname(__file__)+'/../historical_weather_data/data/bangkok_2020-01-01_2024-01-27.csv'\n",
    "ds2 = ds1.replace('bangkok', 'paris')\n",
    "\n",
    "ept.add_data_set('bangkok', ds1)\n",
    "ept.add_data_set('paris', ds2)"
   ]
  },
  {
   "cell_type": "markdown",
   "metadata": {},
   "source": [
    "## Plot added data sets"
   ]
  },
  {
   "cell_type": "code",
   "execution_count": null,
   "metadata": {},
   "outputs": [],
   "source": [
    "data_sets_to_plot = {\n",
    "    'bangkok': ['date', 'rain_sum'],\n",
    "    'paris': ['date', 'temperature_2m_max', 'temperature_2m_min']\n",
    "}\n",
    "\n",
    "ept.plot_interactive(data_sets_to_plot)"
   ]
  }
 ],
 "metadata": {
  "kernelspec": {
   "display_name": "Python 3",
   "language": "python",
   "name": "python3"
  },
  "language_info": {
   "codemirror_mode": {
    "name": "ipython",
    "version": 3
   },
   "file_extension": ".py",
   "mimetype": "text/x-python",
   "name": "python",
   "nbconvert_exporter": "python",
   "pygments_lexer": "ipython3",
   "version": "3.12.1"
  }
 },
 "nbformat": 4,
 "nbformat_minor": 2
}
