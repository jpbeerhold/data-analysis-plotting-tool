{
 "cells": [
  {
   "cell_type": "code",
   "execution_count": null,
   "metadata": {
    "tags": []
   },
   "outputs": [],
   "source": [
    "# Import Easy-Plotting-Tool\n",
    "\n",
    "from data_analysis_plotting_tool.main import EasyPlottingTool"
   ]
  },
  {
   "cell_type": "code",
   "execution_count": null,
   "metadata": {},
   "outputs": [],
   "source": [
    "## Create new object\n",
    "\n",
    "ept = EasyPlottingTool()"
   ]
  },
  {
   "cell_type": "code",
   "execution_count": null,
   "metadata": {},
   "outputs": [],
   "source": [
    "## Add data sets to Plotting Tool\n",
    "\n",
    "from os.path import dirname\n",
    "\n",
    "ds1 = dirname(__file__)+'/../historical_weather_data/data/bangkok_2020-01-01_2024-01-27.csv'\n",
    "ds2 = ds1.replace('bangkok', 'paris')\n",
    "\n",
    "ept.add_data_set('bangkok', ds1)\n",
    "ept.add_data_set('paris', ds2)"
   ]
  },
  {
   "cell_type": "code",
   "execution_count": null,
   "metadata": {},
   "outputs": [],
   "source": [
    "# Plot added data sets\n",
    "\n",
    "data_sets_to_plot = {\n",
    "    'bangkok': ['date', 'rain_sum'],\n",
    "    'paris': ['date', 'temperature_2m_max', 'temperature_2m_min']\n",
    "}\n",
    "\n",
    "ept.plot_interactive(data_sets_to_plot)"
   ]
  }
 ],
 "metadata": {
  "language_info": {
   "name": "python"
  }
 },
 "nbformat": 4,
 "nbformat_minor": 2
}
